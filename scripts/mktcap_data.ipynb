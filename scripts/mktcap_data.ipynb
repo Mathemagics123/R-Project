{
 "cells": [
  {
   "cell_type": "code",
   "execution_count": 1,
   "metadata": {},
   "outputs": [],
   "source": [
    "import requests\n",
    "import json\n",
    "from typing import Tuple, List\n",
    "import pandas as pd\n",
    "import math\n",
    "from tqdm import tqdm"
   ]
  },
  {
   "cell_type": "code",
   "execution_count": 2,
   "metadata": {},
   "outputs": [],
   "source": [
    "outpath = '../data/mktcap.csv'\n",
    "\n",
    "UNIT = 'USD'\n",
    "\n",
    "base_url = 'https://min-api.cryptocompare.com/data'\n",
    "headers = {\n",
    "    'Accepts': 'application/json',\n",
    "    'Authorization': 'Apikey 2572b1c288c45f00c57f9a0dfa1a0da93afc454365cfaaf7ee17820f898fa7b7',\n",
    "}\n",
    "\n",
    "def get_price_meta_data(symbols: List[str]) -> Tuple[dict, bool]:\n",
    "    success = True\n",
    "    symbols_str = ','.join(symbols)\n",
    "    url = base_url + f'/pricemultifull?fsyms={symbols_str}&tsyms={UNIT}'\n",
    "    try:\n",
    "        res = requests.get(url, headers=headers)\n",
    "    except requests.exceptions.RequestException as e:\n",
    "        raise SystemExit(e)\n",
    "    data = json.loads(res.text)\n",
    "    # check success\n",
    "    if not 'RAW' in data:\n",
    "        success = False\n",
    "        return None, success\n",
    "    else:\n",
    "        return data['RAW'], success"
   ]
  },
  {
   "cell_type": "code",
   "execution_count": 3,
   "metadata": {},
   "outputs": [
    {
     "data": {
      "text/plain": [
       "7584"
      ]
     },
     "execution_count": 3,
     "metadata": {},
     "output_type": "execute_result"
    }
   ],
   "source": [
    "# load coin IDs\n",
    "with open('../data/coin_info.json') as f:\n",
    "    coin_info = json.load(f)\n",
    "\n",
    "coins = list(coin_info.keys())\n",
    "len(coins)"
   ]
  },
  {
   "cell_type": "code",
   "execution_count": 4,
   "metadata": {},
   "outputs": [
    {
     "data": {
      "text/plain": [
       "39"
      ]
     },
     "execution_count": 4,
     "metadata": {},
     "output_type": "execute_result"
    }
   ],
   "source": [
    "BATCH_SIZE_LIMIT = 1000\n",
    "num_coins = len(coins)\n",
    "\n",
    "num_batches = 0\n",
    "batches = [[]]\n",
    "\n",
    "cur_batch_size = 0\n",
    "for symbol in coins:\n",
    "    # add +1 for comma\n",
    "    if cur_batch_size + len(symbol) + 1 <= BATCH_SIZE_LIMIT:\n",
    "        cur_batch_size += len(symbol) + 1\n",
    "        batches[num_batches].append(symbol)\n",
    "    else:\n",
    "        num_batches += 1\n",
    "        cur_batch_size = len(symbol)\n",
    "        batches.append([symbol])\n",
    "\n",
    "len(batches)"
   ]
  },
  {
   "cell_type": "code",
   "execution_count": 6,
   "metadata": {},
   "outputs": [
    {
     "name": "stderr",
     "output_type": "stream",
     "text": [
      "  0%|          | 0/39 [00:00<?, ?it/s]\n"
     ]
    }
   ],
   "source": [
    "row_list = []\n",
    "\n",
    "for batch in tqdm(batches):\n",
    "    symbols = batch\n",
    "    data, success = get_price_meta_data(symbols)\n",
    "    if success:\n",
    "        for symbol, symbol_data in data.items():\n",
    "            if 'USD' in symbol_data:\n",
    "                price_data = symbol_data['USD']\n",
    "                relevant_price_data = {\n",
    "                    'symbol': symbol,\n",
    "                    'supply': price_data['SUPPLY'],\n",
    "                    'mktcap': price_data['MKTCAP'],\n",
    "                    'mktcapPenalty': price_data['MKTCAPPENALTY'],\n",
    "                    'circulatingSupply': price_data['CIRCULATINGSUPPLY'],\n",
    "                    'circulatingSupplyMktcap': price_data['CIRCULATINGSUPPLYMKTCAP'],\n",
    "                }\n",
    "                row_list.append(relevant_price_data)\n",
    "            else:\n",
    "                print(f'{symbol} has no field named \\'USD\\'')\n",
    "    else:\n",
    "        print(f'Query from {symbols[0]} to {symbols[-1]} unsuccessful')\n",
    "\n",
    "df = pd.DataFrame(row_list)\n",
    "df.to_csv(outpath)"
   ]
  },
  {
   "cell_type": "code",
   "execution_count": 7,
   "metadata": {},
   "outputs": [
    {
     "data": {
      "text/html": [
       "<div>\n",
       "<style scoped>\n",
       "    .dataframe tbody tr th:only-of-type {\n",
       "        vertical-align: middle;\n",
       "    }\n",
       "\n",
       "    .dataframe tbody tr th {\n",
       "        vertical-align: top;\n",
       "    }\n",
       "\n",
       "    .dataframe thead th {\n",
       "        text-align: right;\n",
       "    }\n",
       "</style>\n",
       "<table border=\"1\" class=\"dataframe\">\n",
       "  <thead>\n",
       "    <tr style=\"text-align: right;\">\n",
       "      <th></th>\n",
       "      <th>symbol</th>\n",
       "      <th>supply</th>\n",
       "      <th>mktcap</th>\n",
       "      <th>mktcapPenalty</th>\n",
       "      <th>circulatingSupply</th>\n",
       "      <th>circulatingSupplyMktcap</th>\n",
       "    </tr>\n",
       "  </thead>\n",
       "  <tbody>\n",
       "    <tr>\n",
       "      <th>0</th>\n",
       "      <td>42</td>\n",
       "      <td>0.0</td>\n",
       "      <td>0.000000</td>\n",
       "      <td>0.0</td>\n",
       "      <td>0</td>\n",
       "      <td>0.0</td>\n",
       "    </tr>\n",
       "    <tr>\n",
       "      <th>1</th>\n",
       "      <td>300</td>\n",
       "      <td>300.0</td>\n",
       "      <td>713981.122128</td>\n",
       "      <td>0.0</td>\n",
       "      <td>0</td>\n",
       "      <td>0.0</td>\n",
       "    </tr>\n",
       "    <tr>\n",
       "      <th>2</th>\n",
       "      <td>365</td>\n",
       "      <td>0.0</td>\n",
       "      <td>0.000000</td>\n",
       "      <td>0.0</td>\n",
       "      <td>0</td>\n",
       "      <td>0.0</td>\n",
       "    </tr>\n",
       "    <tr>\n",
       "      <th>3</th>\n",
       "      <td>404</td>\n",
       "      <td>0.0</td>\n",
       "      <td>0.000000</td>\n",
       "      <td>0.0</td>\n",
       "      <td>0</td>\n",
       "      <td>0.0</td>\n",
       "    </tr>\n",
       "    <tr>\n",
       "      <th>4</th>\n",
       "      <td>611</td>\n",
       "      <td>0.0</td>\n",
       "      <td>0.000000</td>\n",
       "      <td>0.0</td>\n",
       "      <td>0</td>\n",
       "      <td>0.0</td>\n",
       "    </tr>\n",
       "    <tr>\n",
       "      <th>...</th>\n",
       "      <td>...</td>\n",
       "      <td>...</td>\n",
       "      <td>...</td>\n",
       "      <td>...</td>\n",
       "      <td>...</td>\n",
       "      <td>...</td>\n",
       "    </tr>\n",
       "    <tr>\n",
       "      <th>213</th>\n",
       "      <td>XPB</td>\n",
       "      <td>0.0</td>\n",
       "      <td>0.000000</td>\n",
       "      <td>0.0</td>\n",
       "      <td>0</td>\n",
       "      <td>0.0</td>\n",
       "    </tr>\n",
       "    <tr>\n",
       "      <th>214</th>\n",
       "      <td>XDQ</td>\n",
       "      <td>0.0</td>\n",
       "      <td>0.000000</td>\n",
       "      <td>0.0</td>\n",
       "      <td>0</td>\n",
       "      <td>0.0</td>\n",
       "    </tr>\n",
       "    <tr>\n",
       "      <th>215</th>\n",
       "      <td>FLDC</td>\n",
       "      <td>0.0</td>\n",
       "      <td>0.000000</td>\n",
       "      <td>0.0</td>\n",
       "      <td>0</td>\n",
       "      <td>0.0</td>\n",
       "    </tr>\n",
       "    <tr>\n",
       "      <th>216</th>\n",
       "      <td>SLR</td>\n",
       "      <td>0.0</td>\n",
       "      <td>0.000000</td>\n",
       "      <td>0.0</td>\n",
       "      <td>0</td>\n",
       "      <td>0.0</td>\n",
       "    </tr>\n",
       "    <tr>\n",
       "      <th>217</th>\n",
       "      <td>SMAC</td>\n",
       "      <td>0.0</td>\n",
       "      <td>0.000000</td>\n",
       "      <td>0.0</td>\n",
       "      <td>0</td>\n",
       "      <td>0.0</td>\n",
       "    </tr>\n",
       "  </tbody>\n",
       "</table>\n",
       "<p>218 rows × 6 columns</p>\n",
       "</div>"
      ],
      "text/plain": [
       "    symbol  supply         mktcap  mktcapPenalty  circulatingSupply  \\\n",
       "0       42     0.0       0.000000            0.0                  0   \n",
       "1      300   300.0  713981.122128            0.0                  0   \n",
       "2      365     0.0       0.000000            0.0                  0   \n",
       "3      404     0.0       0.000000            0.0                  0   \n",
       "4      611     0.0       0.000000            0.0                  0   \n",
       "..     ...     ...            ...            ...                ...   \n",
       "213    XPB     0.0       0.000000            0.0                  0   \n",
       "214    XDQ     0.0       0.000000            0.0                  0   \n",
       "215   FLDC     0.0       0.000000            0.0                  0   \n",
       "216    SLR     0.0       0.000000            0.0                  0   \n",
       "217   SMAC     0.0       0.000000            0.0                  0   \n",
       "\n",
       "     circulatingSupplyMktcap  \n",
       "0                        0.0  \n",
       "1                        0.0  \n",
       "2                        0.0  \n",
       "3                        0.0  \n",
       "4                        0.0  \n",
       "..                       ...  \n",
       "213                      0.0  \n",
       "214                      0.0  \n",
       "215                      0.0  \n",
       "216                      0.0  \n",
       "217                      0.0  \n",
       "\n",
       "[218 rows x 6 columns]"
      ]
     },
     "execution_count": 7,
     "metadata": {},
     "output_type": "execute_result"
    }
   ],
   "source": [
    "df"
   ]
  }
 ],
 "metadata": {
  "interpreter": {
   "hash": "31f2aee4e71d21fbe5cf8b01ff0e069b9275f58929596ceb00d14d90e3e16cd6"
  },
  "kernelspec": {
   "display_name": "Python 3.8.9 64-bit",
   "language": "python",
   "name": "python3"
  },
  "language_info": {
   "codemirror_mode": {
    "name": "ipython",
    "version": 3
   },
   "file_extension": ".py",
   "mimetype": "text/x-python",
   "name": "python",
   "nbconvert_exporter": "python",
   "pygments_lexer": "ipython3",
   "version": "3.8.9"
  },
  "orig_nbformat": 4
 },
 "nbformat": 4,
 "nbformat_minor": 2
}
