{
 "cells": [
  {
   "cell_type": "code",
   "execution_count": 1,
   "metadata": {},
   "outputs": [],
   "source": [
    "import requests\n",
    "import json\n",
    "import pandas as pd\n",
    "import numpy as np\n",
    "import time\n",
    "from datetime import datetime, date\n",
    "import logging\n",
    "from typing import Tuple, List\n",
    "from tqdm import tqdm\n",
    "import os"
   ]
  },
  {
   "cell_type": "code",
   "execution_count": 2,
   "metadata": {},
   "outputs": [],
   "source": [
    "# setup logging\n",
    "logging.basicConfig(filename='social_cc_data.log', format='(%(process)d): %(asctime)s - %(levelname)s - %(message)s')\n",
    "\n",
    "# create output directory\n",
    "outdir = '../data/social_stats/'\n",
    "if not os.path.exists(outdir):\n",
    "    os.mkdir(outdir)"
   ]
  },
  {
   "cell_type": "code",
   "execution_count": 3,
   "metadata": {},
   "outputs": [],
   "source": [
    "# set constant values\n",
    "FROM_DATE = date(2017, 1, 1)\n",
    "TO_DATE = date(2021, 12, 31)\n",
    "\n",
    "DAYS_LIMIT = (TO_DATE - FROM_DATE).days\n",
    "TO_TS = time.mktime(TO_DATE.timetuple())\n",
    "\n",
    "# fetch historic price data\n",
    "base_url = 'https://min-api.cryptocompare.com/data'\n",
    "headers = {\n",
    "    'Accepts': 'application/json',\n",
    "    'Authorization': 'Apikey 2572b1c288c45f00c57f9a0dfa1a0da93afc454365cfaaf7ee17820f898fa7b7',\n",
    "}\n",
    "\n",
    "def get_social_data(coinId: int) -> Tuple[pd.DataFrame, bool]:\n",
    "    success = True\n",
    "    url = base_url + f'/social/coin/histo/day?coinId={coinId}&toTs={TO_TS}&limit={DAYS_LIMIT}'\n",
    "    try:\n",
    "        res = requests.get(url, headers=headers)\n",
    "    except requests.exceptions.RequestException as e:\n",
    "        raise SystemExit(e)\n",
    "    data = json.loads(res.text)\n",
    "    # check success\n",
    "    if data['Response'] != 'Success' or data['Message'] != '':\n",
    "        msg = f'Unusual response for {coinId}: [{data[\"Response\"]}: {data[\"Message\"]}]'\n",
    "        logging.warning(msg)\n",
    "    if data['HasWarning'] == True:\n",
    "        print(data)\n",
    "        input('Unexpected Warning, press any key to continue')\n",
    "    if not 'Data' in data:\n",
    "        success = False\n",
    "        return None, success\n",
    "    else:\n",
    "        df = pd.DataFrame(data['Data'])\n",
    "        return df, success\n"
   ]
  },
  {
   "cell_type": "code",
   "execution_count": 4,
   "metadata": {},
   "outputs": [
    {
     "data": {
      "text/plain": [
       "7584"
      ]
     },
     "execution_count": 4,
     "metadata": {},
     "output_type": "execute_result"
    }
   ],
   "source": [
    "# load coin IDs\n",
    "with open('../data/coin_info.json') as f:\n",
    "    coin_info = json.load(f)\n",
    "\n",
    "coin_ids = {sym: int(coin['Id']) for sym, coin in coin_info.items()}\n",
    "len(coin_ids)"
   ]
  },
  {
   "cell_type": "code",
   "execution_count": 6,
   "metadata": {},
   "outputs": [
    {
     "name": "stderr",
     "output_type": "stream",
     "text": [
      "100%|██████████| 7583/7583 [49:16<00:00,  2.57it/s]   \n"
     ]
    }
   ],
   "source": [
    "# get price history\n",
    "start = 1\n",
    "symbols_skipped = []\n",
    "\n",
    "for symbol, id in tqdm(list(coin_ids.items())[start:]):\n",
    "    df, success = get_social_data(id)\n",
    "    if success == True:\n",
    "        df.to_csv(outdir + f'{symbol}.csv')\n",
    "    else:\n",
    "        symbols_skipped.append(symbol)\n",
    "\n",
    "# append skipped symbols to csv file\n",
    "df_symbols_skipped = pd.DataFrame(symbols_skipped)\n",
    "df_symbols_skipped.to_csv(outdir + 'symbols_skipped_social.csv', mode='a', header=False, index=False)"
   ]
  }
 ],
 "metadata": {
  "interpreter": {
   "hash": "31f2aee4e71d21fbe5cf8b01ff0e069b9275f58929596ceb00d14d90e3e16cd6"
  },
  "kernelspec": {
   "display_name": "Python 3.8.9 64-bit",
   "language": "python",
   "name": "python3"
  },
  "language_info": {
   "codemirror_mode": {
    "name": "ipython",
    "version": 3
   },
   "file_extension": ".py",
   "mimetype": "text/x-python",
   "name": "python",
   "nbconvert_exporter": "python",
   "pygments_lexer": "ipython3",
   "version": "3.8.9"
  },
  "orig_nbformat": 4
 },
 "nbformat": 4,
 "nbformat_minor": 2
}
