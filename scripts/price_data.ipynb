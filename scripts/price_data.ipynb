{
 "cells": [
  {
   "cell_type": "code",
   "execution_count": 22,
   "metadata": {},
   "outputs": [
    {
     "name": "stderr",
     "output_type": "stream",
     "text": [
      "3748it [22:08,  2.82it/s]\n"
     ]
    }
   ],
   "source": [
    "import requests\n",
    "import json\n",
    "import pandas as pd\n",
    "import numpy as np\n",
    "import time\n",
    "from datetime import datetime, date\n",
    "import logging\n",
    "from typing import Tuple\n",
    "from tqdm import tqdm\n",
    "import os\n",
    "\n",
    "# setup logging\n",
    "logging.basicConfig(filename='price_data.log', filemode='w', format='(%(process)d): %(asctime)s - %(levelname)s - %(message)s')\n",
    "\n",
    "# create output directory\n",
    "outdir = '../data/price_histories/'\n",
    "if not os.path.exists(outdir):\n",
    "    os.mkdir(outdir)\n",
    "\n",
    "# set constant values\n",
    "FROM_DATE = date(2017, 1, 1)\n",
    "TO_DATE = date(2021, 12, 31)\n",
    "\n",
    "DAYS_LIMIT = (TO_DATE - FROM_DATE).days\n",
    "TO_TS = time.mktime(TO_DATE.timetuple())\n",
    "\n",
    "UNIT = 'USD'\n",
    "\n",
    "# read coin list\n",
    "with open('../data/coin.json', 'r') as f:\n",
    "    coins = json.load(f)\n",
    "df_coins = pd.DataFrame(list(coins.items()), columns=['symbol', 'name'])\n",
    "\n",
    "# fetch historic price data\n",
    "base_url = 'https://min-api.cryptocompare.com/data/v2'\n",
    "headers = {\n",
    "    'Accepts': 'application/json',\n",
    "    'Authorization': 'Apikey 2572b1c288c45f00c57f9a0dfa1a0da93afc454365cfaaf7ee17820f898fa7b7',\n",
    "}\n",
    "\n",
    "def get_price_data_1(symbol: str) -> Tuple[pd.DataFrame, bool]:\n",
    "    success = True\n",
    "    url = base_url + f'/histoday?fsym={symbol}&tsym={UNIT}&toTs={TO_TS}&limit={DAYS_LIMIT}'\n",
    "    try:\n",
    "        res = requests.get(url, headers=headers)\n",
    "    except requests.exceptions.RequestException as e:\n",
    "        raise SystemExit(e)\n",
    "    data = json.loads(res.text)\n",
    "    # check success\n",
    "    if data['Response'] != 'Success' or data['Message'] != '':\n",
    "        msg = f'Unusual response for {symbol}: [{data[\"Response\"]}: {data[\"Message\"]}]'\n",
    "        logging.warning(msg)\n",
    "    if data['HasWarning'] == True:\n",
    "        print(data)\n",
    "        input('Unexpected Warning, press any key to continue')\n",
    "    if not 'Data' in data or not 'Data' in data['Data']:\n",
    "        success = False\n",
    "        return None, success\n",
    "    else:\n",
    "        df = pd.DataFrame.from_dict(data['Data']['Data'])\n",
    "        return df, success\n",
    "\n",
    "start = 0\n",
    "symbols_skipped = []\n",
    "\n",
    "for index, row in tqdm(df_coins.iloc[start:].iterrows()):\n",
    "    symbol = row['symbol']\n",
    "    df, success = get_price_data_1(symbol)\n",
    "    if success == True:\n",
    "        df.to_csv(outdir + f'{symbol}.csv')\n",
    "    else:\n",
    "        symbols_skipped.append(symbol)\n",
    "\n",
    "# write skipped symbols to csv file\n",
    "df_symbols_skipped = pd.DataFrame(symbols_skipped)\n",
    "df_symbols_skipped.to_csv(outdir + 'symbols_skipped_price.csv', mode='a', header=False, index=False)"
   ]
  }
 ],
 "metadata": {
  "interpreter": {
   "hash": "31f2aee4e71d21fbe5cf8b01ff0e069b9275f58929596ceb00d14d90e3e16cd6"
  },
  "kernelspec": {
   "display_name": "Python 3.8.9 64-bit",
   "language": "python",
   "name": "python3"
  },
  "language_info": {
   "codemirror_mode": {
    "name": "ipython",
    "version": 3
   },
   "file_extension": ".py",
   "mimetype": "text/x-python",
   "name": "python",
   "nbconvert_exporter": "python",
   "pygments_lexer": "ipython3",
   "version": "3.8.9"
  },
  "orig_nbformat": 4
 },
 "nbformat": 4,
 "nbformat_minor": 2
}
